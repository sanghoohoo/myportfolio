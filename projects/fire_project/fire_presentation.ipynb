{
  "cells": [
    {
      "cell_type": "raw",
      "metadata": {},
      "source": [
        "---\n",
        "title: 계절별 화재발생 빈도 및 요인 분석\n",
        "author: \"명예소방관 시켜조\\U0001F692 : 안상후, 오서연, 김주영, 김재희\"\n",
        "format: html\n",
        "editor: visual\n",
        "categories:\n",
        "  - LS bigdata\n",
        "---"
      ],
      "id": "2f36fd59"
    },
    {
      "cell_type": "markdown",
      "metadata": {},
      "source": [
        "<br>\n",
        "\n",
        "## 0. 주제 선정 이유\n",
        "\n",
        "> 화재에 의한 피해 감소를 위해<br> **화재가 많이 발생하는 계절**, **화재 발생에 많이 기여하는 요인**, **인명피해가 많이 발생하는 요인**을<br> 분석하여 예방책 제안\n",
        "\n",
        "## 1. 계절별 화재발생 빈도\n",
        "\n",
        "### <데이터 설명>\n"
      ],
      "id": "403ddecb"
    },
    {
      "cell_type": "code",
      "metadata": {},
      "source": [
        "import pandas as pd\n",
        "import numpy as np\n",
        "df = pd.read_csv(\"C:/Users/USER/Documents/LS빅데이터스쿨/myportfolio/projects/data/fire.csv\")\n",
        "df.head()"
      ],
      "id": "94fe64d5",
      "execution_count": null,
      "outputs": []
    },
    {
      "cell_type": "markdown",
      "metadata": {},
      "source": [
        "<br>\n",
        "\n",
        "### <데이터 전처리>\n",
        "\n",
        "-   연도별로 분리\n"
      ],
      "id": "0127a31b"
    },
    {
      "cell_type": "code",
      "metadata": {},
      "source": [
        "data_2020 = df[['항목'] + df.filter(like='2020').columns.tolist()]\n",
        "\n",
        "data_2021 = df[['항목'] + df.filter(like='2021').columns.tolist()]\n",
        "\n",
        "data_2022 = df[['항목'] + df.filter(like='2022').columns.tolist()]\n",
        "\n",
        "data_2022.head()"
      ],
      "id": "62f1b3fd",
      "execution_count": null,
      "outputs": []
    },
    {
      "cell_type": "markdown",
      "metadata": {},
      "source": [
        "<br>\n",
        "\n",
        "-   2022년의 제품결함 열 삭제\n"
      ],
      "id": "56e9a87c"
    },
    {
      "cell_type": "code",
      "metadata": {},
      "source": [
        "data_2022 = data_2022.drop(columns = \"2022.11\")\n",
        "data_2022.head()"
      ],
      "id": "0268e16c",
      "execution_count": null,
      "outputs": []
    },
    {
      "cell_type": "markdown",
      "metadata": {},
      "source": [
        "<br>\n",
        "\n",
        "-   0번째 행을 column으로 지정\n"
      ],
      "id": "17e8cc45"
    },
    {
      "cell_type": "code",
      "metadata": {},
      "source": [
        "data_2020.columns = data_2020.iloc[0] \n",
        "\n",
        "data_2021.columns = data_2021.iloc[0] \n",
        "\n",
        "data_2022.columns = data_2022.iloc[0] \n",
        "\n",
        "data_2022.head()"
      ],
      "id": "74eec4ed",
      "execution_count": null,
      "outputs": []
    },
    {
      "cell_type": "markdown",
      "metadata": {},
      "source": [
        "<br>\n",
        "\n",
        "-   0행, 1행 삭제 후 인덱스 초기화\n"
      ],
      "id": "d047e036"
    },
    {
      "cell_type": "code",
      "metadata": {},
      "source": [
        "data_2020 = data_2020[2:]\n",
        "data_2020 = data_2020.reset_index(drop=True)\n",
        "\n",
        "data_2021 = data_2021[2:]\n",
        "data_2021 = data_2021.reset_index(drop=True)\n",
        "\n",
        "data_2022 = data_2022[2:]\n",
        "data_2022 = data_2022.reset_index(drop=True)\n",
        "\n",
        "data_2022.head()"
      ],
      "id": "7d9b6757",
      "execution_count": null,
      "outputs": []
    },
    {
      "cell_type": "markdown",
      "metadata": {},
      "source": [
        "<br>\n",
        "\n",
        "-   데이터타입이 object로 되어 있음\n"
      ],
      "id": "f7f9d902"
    },
    {
      "cell_type": "code",
      "metadata": {},
      "source": [
        "data_2022.info()"
      ],
      "id": "17c8040e",
      "execution_count": null,
      "outputs": []
    },
    {
      "cell_type": "markdown",
      "metadata": {},
      "source": [
        "<br>\n",
        "\n",
        "-   for문을 사용해 데이터타입을 int로 변경\n"
      ],
      "id": "38855884"
    },
    {
      "cell_type": "code",
      "metadata": {},
      "source": [
        "columns_to_convert = ['계', '전기적요인', '기계적요인',\n",
        "                '화학적요인', '가스누출', '교통사고', '부주의', '기타',\n",
        "                '자연적요인', '방화', '방화의심', '미상']\n",
        "\n",
        "for column in columns_to_convert:\n",
        "    data_2020[column] = pd.to_numeric(data_2020[column])\n",
        "\n",
        "for column in columns_to_convert:\n",
        "    data_2021[column] = pd.to_numeric(data_2021[column])\n",
        "\n",
        "for column in columns_to_convert:\n",
        "    data_2022[column] = pd.to_numeric(data_2022[column])\n",
        "\n",
        "data_2022.info()"
      ],
      "id": "a9766b8b",
      "execution_count": null,
      "outputs": []
    },
    {
      "cell_type": "markdown",
      "metadata": {},
      "source": [
        "<br>\n",
        "\n",
        "-   계절 파생변수 추가\n",
        "\n",
        "    > 봄: 3월, 4월, 5월<br> 여름: 6월, 7월, 8월<br> 가을: 9월, 10월, 11월<br> 겨울: 12월, 1월, 2월\n"
      ],
      "id": "322a47d1"
    },
    {
      "cell_type": "code",
      "metadata": {},
      "source": [
        "data_2020[\"계절\"] = np.where(data_2020[\"항목\"]\\\n",
        "                    .isin([\"3월\", \"4월\", \"5월\"]),\"spring\",\n",
        "                    np.where(data_2020[\"항목\"]\\\n",
        "                    .isin([\"6월\", \"7월\", \"8월\"]),\"summer\",\n",
        "                    np.where(data_2020[\"항목\"]\\\n",
        "                    .isin([\"9월\", \"10월\", \"11월\"]),\"fall\",\"winter\")))\n",
        "\n",
        "data_2021[\"계절\"] = np.where(data_2021[\"항목\"]\\\n",
        "                    .isin([\"3월\", \"4월\", \"5월\"]),\"spring\",\n",
        "                    np.where(data_2021[\"항목\"].\\\n",
        "                    isin([\"6월\", \"7월\", \"8월\"]),\"summer\",\n",
        "                    np.where(data_2021[\"항목\"].\\\n",
        "                    isin([\"9월\", \"10월\", \"11월\"]),\"fall\",\"winter\")))\n",
        "\n",
        "data_2022[\"계절\"] = np.where(data_2022[\"항목\"]\\\n",
        "                    .isin([\"3월\", \"4월\", \"5월\"]),\"spring\",\n",
        "                    np.where(data_2022[\"항목\"]\\\n",
        "                    .isin([\"6월\", \"7월\", \"8월\"]),\"summer\",\n",
        "                    np.where(data_2022[\"항목\"]\\\n",
        "                    .isin([\"9월\", \"10월\", \"11월\"]),\"fall\",\"winter\")))\n",
        "\n",
        "data_2022.head()"
      ],
      "id": "ce7791e2",
      "execution_count": null,
      "outputs": []
    },
    {
      "cell_type": "markdown",
      "metadata": {},
      "source": [
        "<br>\n",
        "\n",
        "-   계절별 화재 횟수 데이터프레임 생성\n"
      ],
      "id": "a414bdd0"
    },
    {
      "cell_type": "code",
      "metadata": {},
      "source": [
        "season_20 = data_2020.groupby('계절').agg(sum2020=('계','sum'))\n",
        "\n",
        "season_21 = data_2021.groupby('계절').agg(sum2021=('계','sum'))\n",
        "\n",
        "season_22 = data_2022.groupby('계절').agg(sum2022=('계','sum'))\n",
        "\n",
        "season_22"
      ],
      "id": "69de6c94",
      "execution_count": null,
      "outputs": []
    },
    {
      "cell_type": "markdown",
      "metadata": {},
      "source": [
        "<br>\n",
        "\n",
        "-   데이터 합치기 ('concat' 함수이용)\n"
      ],
      "id": "3c3cca8a"
    },
    {
      "cell_type": "code",
      "metadata": {},
      "source": [
        "season = pd.concat([season_20,season_21,season_22], axis=1)\n",
        "season"
      ],
      "id": "26b0eee4",
      "execution_count": null,
      "outputs": []
    },
    {
      "cell_type": "markdown",
      "metadata": {},
      "source": [
        "<br>\n",
        "\n",
        "-   계절 순서를 '봄', '여름', '가을', '겨울'로 정렬\n"
      ],
      "id": "d3888bae"
    },
    {
      "cell_type": "code",
      "metadata": {},
      "source": [
        "season = season.loc[['spring', 'summer', 'fall', 'winter']]\n",
        "season"
      ],
      "id": "337b8fe8",
      "execution_count": null,
      "outputs": []
    },
    {
      "cell_type": "markdown",
      "metadata": {},
      "source": [
        "<br>\n",
        "\n",
        "### <데이터 시각화>\n",
        "\n",
        "-   계절별 화재발생 선 그래프 생성\n"
      ],
      "id": "cc6ab047"
    },
    {
      "cell_type": "code",
      "metadata": {},
      "source": [
        "import matplotlib.pyplot as plt\n",
        "\n",
        "plt.figure(figsize=(6, 6))\n",
        "plt.plot(season.index, season['sum2020'], marker='o', label='2020')\n",
        "plt.plot(season.index, season['sum2021'], marker='o', label='2021')\n",
        "plt.plot(season.index, season['sum2022'], marker='o', label='2022')\n",
        "\n",
        "plt.legend()\n",
        "plt.show()\n",
        "plt.clf()"
      ],
      "id": "272b05fb",
      "execution_count": null,
      "outputs": []
    },
    {
      "cell_type": "markdown",
      "metadata": {},
      "source": [
        "<br>\n",
        "\n",
        "### <결과 >\n",
        "\n",
        "> 2020년, 2021년, 2022년 모두 여름과 가을에 비해<br>**봄**과 **겨울**에 화재 발생 빈도가 높게 나타남\n",
        "\n",
        "<br>\n",
        "\n",
        "## 2. 요인별 화재발생 빈도\n",
        "\n",
        "### <데이터 전처리>\n",
        "\n",
        "-   다시 한번 데이터 확인해보기 <br>\n"
      ],
      "id": "bbbcc295"
    },
    {
      "cell_type": "code",
      "metadata": {},
      "source": [
        "data_2022.head"
      ],
      "id": "6bf14a0d",
      "execution_count": null,
      "outputs": []
    },
    {
      "cell_type": "markdown",
      "metadata": {},
      "source": [
        "<br>\n",
        "\n",
        "-   데이터 합치기 ('concat' 함수이용)\n"
      ],
      "id": "031f2703"
    },
    {
      "cell_type": "code",
      "metadata": {},
      "source": [
        "data_all = pd.concat([data_2020, data_2021,data_2022])\n",
        "data_all"
      ],
      "id": "a5908277",
      "execution_count": null,
      "outputs": []
    },
    {
      "cell_type": "markdown",
      "metadata": {},
      "source": [
        "<br>\n",
        "\n",
        "-   필요없는 열 제거\n"
      ],
      "id": "7320fb3c"
    },
    {
      "cell_type": "code",
      "metadata": {},
      "source": [
        "data_all = data_all.drop(columns=['계'])\n",
        "data_all.head(3)"
      ],
      "id": "e71f2f56",
      "execution_count": null,
      "outputs": []
    },
    {
      "cell_type": "markdown",
      "metadata": {},
      "source": [
        "<br>\n",
        "\n",
        "-   요인별 평균 내기\n"
      ],
      "id": "c467e6e6"
    },
    {
      "cell_type": "code",
      "metadata": {},
      "source": [
        "# 행과 열 바꿔줌\n",
        "data_all = data_all.transpose()\n",
        "data_all.head()"
      ],
      "id": "7f0a05ed",
      "execution_count": null,
      "outputs": []
    },
    {
      "cell_type": "code",
      "metadata": {},
      "source": [
        "# 필요없는 열 제거\n",
        "data_all = data_all.drop(\"항목\", axis=0)\n",
        "data_all = data_all.drop(\"계절\", axis=0)\n",
        "data_all.head()"
      ],
      "id": "dac3a6ee",
      "execution_count": null,
      "outputs": []
    },
    {
      "cell_type": "code",
      "metadata": {},
      "source": [
        "# 데이터타입이 object로 되어 있음\n",
        "data_all.info()"
      ],
      "id": "e213f83b",
      "execution_count": null,
      "outputs": []
    },
    {
      "cell_type": "markdown",
      "metadata": {},
      "source": [
        "<br>\n"
      ],
      "id": "0bc72156"
    },
    {
      "cell_type": "code",
      "metadata": {},
      "source": [
        "# 데이터타입을 int로 변경\n",
        "data_all=data_all.astype(int)\n",
        "data_all.info()"
      ],
      "id": "71818c4c",
      "execution_count": null,
      "outputs": []
    },
    {
      "cell_type": "markdown",
      "metadata": {},
      "source": [
        "<br>\n",
        "\n",
        "-   1년동안 일어나는 요인별 화재건수를 'total'열 생성(3년 평균)\n"
      ],
      "id": "5c605a86"
    },
    {
      "cell_type": "code",
      "metadata": {},
      "source": [
        "data_all[\"total\"] = data_all.sum(axis=1)/3\n",
        "data_all.head()"
      ],
      "id": "9f283b0a",
      "execution_count": null,
      "outputs": []
    },
    {
      "cell_type": "code",
      "metadata": {},
      "source": [
        "## 한글\n",
        "from matplotlib import font_manager, rc\n",
        "\n",
        "# 한글 폰트 설정\n",
        "font_path = \"C:/Windows/Fonts/malgun.ttf\"  # 예시: 윈도우 시스템에 있는 맑은 고딕 폰트 경로\n",
        "font_name = font_manager.FontProperties(fname=font_path).get_name()\n",
        "rc('font', family=font_name)"
      ],
      "id": "debba65b",
      "execution_count": null,
      "outputs": []
    },
    {
      "cell_type": "markdown",
      "metadata": {},
      "source": [
        "### <데이터 시각화>\n",
        "\n",
        "-   요인별 화재건수\n"
      ],
      "id": "7db72431"
    },
    {
      "cell_type": "code",
      "metadata": {},
      "source": [
        "data_all[\"total\"].plot.bar(rot=0)\n",
        "plt.xticks(fontsize=7, rotation=45)\n",
        "plt.show()\n",
        "plt.clf()"
      ],
      "id": "f6039ef6",
      "execution_count": null,
      "outputs": []
    },
    {
      "cell_type": "markdown",
      "metadata": {},
      "source": [
        "<br>\n",
        "\n",
        "### <결과>\n",
        "\n",
        "> 3년간 화재발생 요인의 평균을 분석했을 때 **부주의**가 가장 높게 나타남\n",
        "\n",
        "<br>\n",
        "\n",
        "## 3. 요인별 인명피해\n",
        "\n",
        "### <데이터 설명>\n"
      ],
      "id": "1d95a0ce"
    },
    {
      "cell_type": "code",
      "metadata": {},
      "source": [
        "damage = pd.read_csv(\"C:/Users/USER/Documents/LS빅데이터스쿨/myportfolio/projects/data/di.csv\")\n",
        "damage"
      ],
      "id": "1f1f7e3e",
      "execution_count": null,
      "outputs": []
    },
    {
      "cell_type": "markdown",
      "metadata": {},
      "source": [
        "<br>\n",
        "\n",
        "### <데이터 전처리>\n",
        "\n",
        "-   연도별로 분리\n"
      ],
      "id": "9825d528"
    },
    {
      "cell_type": "code",
      "metadata": {},
      "source": [
        "damage_20 = damage[['항목'] + damage.filter(like='2020').columns.tolist()]\n",
        "damage_21 = damage[['항목'] + damage.filter(like='2021').columns.tolist()]\n",
        "damage_22 = damage[['항목'] + damage.filter(like='2022').columns.tolist()]\n",
        "\n",
        "damage_22.head()"
      ],
      "id": "35058d4b",
      "execution_count": null,
      "outputs": []
    },
    {
      "cell_type": "markdown",
      "metadata": {},
      "source": [
        "```         \n",
        "<br>\n",
        "```\n",
        "\n",
        "-   행 올리기 (반복되는 기존 열 삭제 및 첫번째 행 올리기)\n"
      ],
      "id": "6109c3c0"
    },
    {
      "cell_type": "code",
      "metadata": {},
      "source": [
        "damage_20.columns = damage_20.iloc[0]\n",
        "damage_20 = damage_20[1:3]\n",
        "damage_20 = damage_20.reset_index(drop=True)\n",
        "damage_20 = damage_20.drop(columns=['항목','계'])\n",
        "\n",
        "damage_21.columns = damage_21.iloc[0]\n",
        "damage_21 = damage_21[1:3]\n",
        "damage_21 = damage_21.reset_index(drop=True)\n",
        "damage_21 = damage_21.drop(columns=['항목','계'])\n",
        "\n",
        "damage_22.columns = damage_22.iloc[0]\n",
        "damage_22 = damage_22[1:3]\n",
        "damage_22 = damage_22.reset_index(drop=True)\n",
        "damage_22 = damage_22.drop(columns=['항목', '계', '제품결함'])\n",
        "\n",
        "damage_22"
      ],
      "id": "aa75aa7f",
      "execution_count": null,
      "outputs": []
    },
    {
      "cell_type": "markdown",
      "metadata": {},
      "source": [
        "<br>\n",
        "\n",
        "-   행열 전환\n"
      ],
      "id": "2c77ed03"
    },
    {
      "cell_type": "code",
      "metadata": {},
      "source": [
        "damage_20 = damage_20.transpose()\n",
        "\n",
        "damage_21 = damage_21.transpose()\n",
        "\n",
        "damage_22 = damage_22.transpose()\n",
        "\n",
        "damage_22.head()"
      ],
      "id": "afce532c",
      "execution_count": null,
      "outputs": []
    },
    {
      "cell_type": "markdown",
      "metadata": {},
      "source": [
        "<br>\n",
        "\n",
        "-   데이터 합치기 ('concat' 함수이용)\n"
      ],
      "id": "5af6655e"
    },
    {
      "cell_type": "code",
      "metadata": {},
      "source": [
        "damage_total = pd.concat([damage_20, damage_21[1], damage_22[1]], axis=1)\n",
        "    \n",
        "damage_total = damage_total.drop(0, axis=1)\n",
        "    \n",
        "damage_total.head()"
      ],
      "id": "dd4de362",
      "execution_count": null,
      "outputs": []
    },
    {
      "cell_type": "markdown",
      "metadata": {},
      "source": [
        "<br>\n",
        "\n",
        "-   계산 가능한 숫자형 데이터로 전환하기\n"
      ],
      "id": "cdc9cbca"
    },
    {
      "cell_type": "code",
      "metadata": {},
      "source": [
        "damage_total=damage_total.astype(int)\n",
        "damage_total.info()"
      ],
      "id": "03d4eb73",
      "execution_count": null,
      "outputs": []
    },
    {
      "cell_type": "markdown",
      "metadata": {},
      "source": [
        "<br>\n",
        "\n",
        "-   사망 데이터 분류하기\n"
      ],
      "id": "db2fb48a"
    },
    {
      "cell_type": "code",
      "metadata": {},
      "source": [
        "death = damage_total.iloc[::2]\n",
        "death"
      ],
      "id": "0b490868",
      "execution_count": null,
      "outputs": []
    },
    {
      "cell_type": "markdown",
      "metadata": {},
      "source": [
        "<br>\n",
        "\n",
        "-   부상 데이터 분류하기\n"
      ],
      "id": "2bc09e10"
    },
    {
      "cell_type": "code",
      "metadata": {},
      "source": [
        "injury = damage_total.iloc[1::2]\n",
        "injury"
      ],
      "id": "a9c28666",
      "execution_count": null,
      "outputs": []
    },
    {
      "cell_type": "markdown",
      "metadata": {},
      "source": [
        "<br>\n",
        "\n",
        "-   사망,부상별 합계 ,평균 변수 및 백분율 변수 추가하기\n"
      ],
      "id": "b1ec4c51"
    },
    {
      "cell_type": "code",
      "metadata": {},
      "source": [
        "death_all = death.assign(total = death.sum(axis = 1),\n",
        "                         mean = lambda x : x[\"total\"] / 3 ,\n",
        "                         ratio = lambda x : (x[\"mean\"] / data_all[\"total\"]) * 100)\n",
        "\n",
        "injury_all = injury.assign(total = injury.sum(axis = 1),\n",
        "                           mean = lambda x : x[\"total\"] / 3,\n",
        "                           ratio = lambda x : (x[\"mean\"] / data_all[\"total\"]) * 100)\n",
        "             \n",
        "injury_all.head()\n"
      ],
      "id": "4b11381b",
      "execution_count": null,
      "outputs": []
    },
    {
      "cell_type": "markdown",
      "metadata": {},
      "source": [
        "<br>\n",
        "\n",
        "### <데이터 시각화>\n",
        "\n",
        "-   총 화재 발생 대비 사망률 막대 그래프 생성\n"
      ],
      "id": "8440c984"
    },
    {
      "cell_type": "code",
      "metadata": {},
      "source": [
        "death_all[\"ratio\"].plot.bar(rot=0)\n",
        "plt.xticks(fontsize=7, rotation=20)\n",
        "plt.show()\n",
        "plt.clf()\n"
      ],
      "id": "df5db54e",
      "execution_count": null,
      "outputs": []
    },
    {
      "cell_type": "markdown",
      "metadata": {},
      "source": [
        "> (연간 사망 횟수 평균/연간 화재 발생 횟수 평균\\*100) \\[%\\]\n",
        "\n",
        "<br>\n",
        "\n",
        "-   총 화재 발생 대비 부상률 막대 그래프 생성\n"
      ],
      "id": "877e91a6"
    },
    {
      "cell_type": "code",
      "metadata": {},
      "source": [
        "injury_all[\"ratio\"].plot.bar(rot=0)\n",
        "plt.xticks(fontsize=7, rotation=20)\n",
        "plt.show()\n",
        "plt.clf()"
      ],
      "id": "e3e624de",
      "execution_count": null,
      "outputs": []
    },
    {
      "cell_type": "markdown",
      "metadata": {},
      "source": [
        "> (연간 부상 횟수 평균/연간 화재 발생 횟수 평균\\*100) \\[%\\]\n",
        "\n",
        "<br>\n",
        "\n",
        "### <결과>\n",
        "\n",
        "> 사망률은 **방화**와 **방화 의심**,<br> 부상률은 **가스누출**이 높게 나타남\n",
        "\n",
        "## 4. 결론\n",
        "\n",
        "-   건조한 날씨와 난방기구 사용으로 화재가 많이 발생하는<br> **봄과 겨울에 특히 주의**가 필요함<br>\n",
        "\n",
        "-   화재 발생의 주요 원인이 부주의인 점을 감안할 때,<br> **화재 예방을 위한 대중 교육과 캠페인**이 중요함<br>\n",
        "\n",
        "-   방화 및 방화 의심 화재에 의한 사망이 많으므로<br> **고의적인 화재에 대한 강력한 법적 대응과 예방책**을 마련해야 함<br>\n",
        "\n",
        "-   가스 누출 화재에 의한 부상이 많으므로<br> **가스 안전 관리와 관련된 법규와 교육**을 강화할 필요가 있음<br>"
      ],
      "id": "fcd8f599"
    }
  ],
  "metadata": {
    "kernelspec": {
      "name": "python3",
      "language": "python",
      "display_name": "Python 3 (ipykernel)"
    }
  },
  "nbformat": 4,
  "nbformat_minor": 5
}